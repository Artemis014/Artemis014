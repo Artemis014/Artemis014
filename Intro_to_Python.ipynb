{
  "nbformat": 4,
  "nbformat_minor": 0,
  "metadata": {
    "colab": {
      "name": "Intro_to_Python.ipynb",
      "provenance": [],
      "collapsed_sections": [],
      "authorship_tag": "ABX9TyMuhY9WyhPiXk5UB+ti08h/",
      "include_colab_link": true
    },
    "kernelspec": {
      "name": "python3",
      "display_name": "Python 3"
    },
    "language_info": {
      "name": "python"
    }
  },
  "cells": [
    {
      "cell_type": "markdown",
      "metadata": {
        "id": "view-in-github",
        "colab_type": "text"
      },
      "source": [
        "<a href=\"https://colab.research.google.com/github/Artemis014/IGUICO_Yana_Elective3/blob/main/Intro_to_Python.ipynb\" target=\"_parent\"><img src=\"https://colab.research.google.com/assets/colab-badge.svg\" alt=\"Open In Colab\"/></a>"
      ]
    },
    {
      "cell_type": "markdown",
      "source": [
        "##Python Indention"
      ],
      "metadata": {
        "id": "7mrpA0vrIOIN"
      }
    },
    {
      "cell_type": "code",
      "source": [
        "if 5<2:\n",
        "  print (\"Five is less than two\")\n",
        "else:\n",
        "  print (\"Five is greater than two\")"
      ],
      "metadata": {
        "colab": {
          "base_uri": "https://localhost:8080/"
        },
        "id": "g_lKWcg_IUGR",
        "outputId": "d1617b6e-38b1-4cf9-941c-162601250208"
      },
      "execution_count": null,
      "outputs": [
        {
          "output_type": "stream",
          "name": "stdout",
          "text": [
            "Five is greater than two\n"
          ]
        }
      ]
    },
    {
      "cell_type": "markdown",
      "source": [
        "##Python Comments"
      ],
      "metadata": {
        "id": "nCWNf5ZpIhWp"
      }
    },
    {
      "cell_type": "code",
      "source": [
        "# This is a program that displays Hello, World\n",
        "\n",
        "print(\"Hello, World\")\n",
        "print('Welcome to Python Programming')"
      ],
      "metadata": {
        "colab": {
          "base_uri": "https://localhost:8080/"
        },
        "id": "5gfwTQOQIk1W",
        "outputId": "b2cfce9d-12f4-4b28-fc87-73ffcb7e12d2"
      },
      "execution_count": null,
      "outputs": [
        {
          "output_type": "stream",
          "name": "stdout",
          "text": [
            "Hello, World\n",
            "Welcome to Python Programming\n"
          ]
        }
      ]
    }
  ]
}
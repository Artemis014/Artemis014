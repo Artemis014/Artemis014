{
  "nbformat": 4,
  "nbformat_minor": 0,
  "metadata": {
    "colab": {
      "name": "Operations and Expressions in Python.ipynb",
      "provenance": [],
      "collapsed_sections": [],
      "toc_visible": true,
      "authorship_tag": "ABX9TyMXYyzxFrefESlNXSY6qN1k",
      "include_colab_link": true
    },
    "kernelspec": {
      "name": "python3",
      "display_name": "Python 3"
    },
    "language_info": {
      "name": "python"
    }
  },
  "cells": [
    {
      "cell_type": "markdown",
      "metadata": {
        "id": "view-in-github",
        "colab_type": "text"
      },
      "source": [
        "<a href=\"https://colab.research.google.com/github/Artemis014/IGUICO_Yana_Elective3/blob/main/Operations_and_Expressions_in_Python.ipynb\" target=\"_parent\"><img src=\"https://colab.research.google.com/assets/colab-badge.svg\" alt=\"Open In Colab\"/></a>"
      ]
    },
    {
      "cell_type": "markdown",
      "source": [
        "##Boolean Operators\n"
      ],
      "metadata": {
        "id": "davsG4ye2ARd"
      }
    },
    {
      "cell_type": "code",
      "source": [
        "x = 10\n",
        "y = 9\n",
        "\n",
        "x>y\n",
        "x==y\n",
        "x<y"
      ],
      "metadata": {
        "colab": {
          "base_uri": "https://localhost:8080/"
        },
        "id": "oqbbw-vD2KXu",
        "outputId": "620a6183-9e5e-411d-8bf2-219c9d26f699"
      },
      "execution_count": 1,
      "outputs": [
        {
          "output_type": "execute_result",
          "data": {
            "text/plain": [
              "False"
            ]
          },
          "metadata": {},
          "execution_count": 1
        }
      ]
    },
    {
      "cell_type": "markdown",
      "source": [
        "##Bool Function"
      ],
      "metadata": {
        "id": "wgAzotBA2th6"
      }
    },
    {
      "cell_type": "code",
      "source": [
        "print(bool(\"Maria\"))\n",
        "print(bool(17))\n",
        "\n",
        "print(bool(None))\n",
        "print(bool())\n",
        "print(bool([]))\n",
        "print(bool(0))"
      ],
      "metadata": {
        "colab": {
          "base_uri": "https://localhost:8080/"
        },
        "id": "KmZIWegT24yG",
        "outputId": "b8d7cb62-6aac-4c97-a469-95437894b084"
      },
      "execution_count": 2,
      "outputs": [
        {
          "output_type": "stream",
          "name": "stdout",
          "text": [
            "True\n",
            "True\n",
            "False\n",
            "False\n",
            "False\n",
            "False\n"
          ]
        }
      ]
    },
    {
      "cell_type": "markdown",
      "source": [
        "##Defining Function"
      ],
      "metadata": {
        "id": "lUNS3Fxc4pl7"
      }
    },
    {
      "cell_type": "code",
      "source": [
        "def myFunction():\n",
        "  return False\n",
        "print(myFunction())"
      ],
      "metadata": {
        "colab": {
          "base_uri": "https://localhost:8080/"
        },
        "id": "dS0oLaP24ukV",
        "outputId": "2737f4a2-16b2-4617-e475-c7f1d914d395"
      },
      "execution_count": 3,
      "outputs": [
        {
          "output_type": "stream",
          "name": "stdout",
          "text": [
            "False\n"
          ]
        }
      ]
    },
    {
      "cell_type": "code",
      "source": [
        "def myFunction():\n",
        "  return False\n",
        "\n",
        "if myFunction():\n",
        "  print(\"yes\")\n",
        "else:\n",
        "  print(\"no\")"
      ],
      "metadata": {
        "colab": {
          "base_uri": "https://localhost:8080/"
        },
        "id": "ED8qsUl945Y8",
        "outputId": "bfd377bf-abe6-4835-fb9f-b7de1adef86d"
      },
      "execution_count": 6,
      "outputs": [
        {
          "output_type": "stream",
          "name": "stdout",
          "text": [
            "no\n"
          ]
        }
      ]
    },
    {
      "cell_type": "markdown",
      "source": [
        "##Application 1"
      ],
      "metadata": {
        "id": "9fBtHq_S6A6j"
      }
    },
    {
      "cell_type": "code",
      "source": [
        "a = 6\n",
        "b = 7\n",
        "\n",
        "print(a == b)\n",
        "print(a !=b)"
      ],
      "metadata": {
        "colab": {
          "base_uri": "https://localhost:8080/"
        },
        "id": "Gr_XIXcL6Dgg",
        "outputId": "7cec3375-d7ee-4a92-918b-d41281c230d4"
      },
      "execution_count": 7,
      "outputs": [
        {
          "output_type": "stream",
          "name": "stdout",
          "text": [
            "False\n",
            "True\n"
          ]
        }
      ]
    },
    {
      "cell_type": "markdown",
      "source": [
        "##Arithmetic Operations\n"
      ],
      "metadata": {
        "id": "KTXyO3Df6LZV"
      }
    },
    {
      "cell_type": "code",
      "source": [
        "print(a+b)\n",
        "print(a-b)\n",
        "print(a*b)\n",
        "print(a**b)"
      ],
      "metadata": {
        "colab": {
          "base_uri": "https://localhost:8080/"
        },
        "id": "gieAAuFO6OBK",
        "outputId": "ca1febeb-b301-49d5-92ff-d458208f04cb"
      },
      "execution_count": 11,
      "outputs": [
        {
          "output_type": "stream",
          "name": "stdout",
          "text": [
            "13\n",
            "-1\n",
            "42\n",
            "279936\n"
          ]
        }
      ]
    },
    {
      "cell_type": "markdown",
      "source": [
        "##Bitwise Operators"
      ],
      "metadata": {
        "id": "WM7LvQ6y7qA8"
      }
    },
    {
      "cell_type": "code",
      "source": [
        "c = 60\n",
        "d = 13\n",
        "print(c&d)\n",
        "print(c|d)\n",
        "print(c<<1)\n",
        "print(c<<2)"
      ],
      "metadata": {
        "colab": {
          "base_uri": "https://localhost:8080/"
        },
        "id": "2PJPCzNz78IJ",
        "outputId": "fe4809a9-577e-4a7f-fb68-70567e9e88dd"
      },
      "execution_count": 12,
      "outputs": [
        {
          "output_type": "stream",
          "name": "stdout",
          "text": [
            "12\n",
            "61\n",
            "120\n",
            "240\n"
          ]
        }
      ]
    },
    {
      "cell_type": "markdown",
      "source": [
        "##Assignment Operators\n"
      ],
      "metadata": {
        "id": "eyE2-fS3-V6m"
      }
    },
    {
      "cell_type": "code",
      "source": [
        "c+=3\n",
        "c%=3\n",
        "\n",
        "print (c)"
      ],
      "metadata": {
        "colab": {
          "base_uri": "https://localhost:8080/"
        },
        "id": "Q-fEwP4j-ZDB",
        "outputId": "6ef66e6e-b54f-49bf-e28c-bfa71ea90787"
      },
      "execution_count": 15,
      "outputs": [
        {
          "output_type": "stream",
          "name": "stdout",
          "text": [
            "0\n"
          ]
        }
      ]
    },
    {
      "cell_type": "markdown",
      "source": [
        "##Logical Operators\n"
      ],
      "metadata": {
        "id": "An6qmLGq-qpO"
      }
    },
    {
      "cell_type": "code",
      "source": [
        "c = True\n",
        "d = True\n",
        "\n",
        "not (c and d)"
      ],
      "metadata": {
        "colab": {
          "base_uri": "https://localhost:8080/"
        },
        "id": "y-TJeQD4-xdM",
        "outputId": "6d8245d3-3313-4184-f9ad-7682cf56f031"
      },
      "execution_count": 16,
      "outputs": [
        {
          "output_type": "execute_result",
          "data": {
            "text/plain": [
              "False"
            ]
          },
          "metadata": {},
          "execution_count": 16
        }
      ]
    },
    {
      "cell_type": "markdown",
      "source": [
        "##Identity"
      ],
      "metadata": {
        "id": "NI1_mfDs-so8"
      }
    },
    {
      "cell_type": "code",
      "source": [
        "c is d\n",
        "c is not d"
      ],
      "metadata": {
        "colab": {
          "base_uri": "https://localhost:8080/"
        },
        "id": "WWzCCHR0-5i8",
        "outputId": "8880256b-42fa-47bc-c2d0-abb3298240fc"
      },
      "execution_count": 18,
      "outputs": [
        {
          "output_type": "execute_result",
          "data": {
            "text/plain": [
              "False"
            ]
          },
          "metadata": {},
          "execution_count": 18
        }
      ]
    },
    {
      "cell_type": "markdown",
      "source": [
        "##Application 2"
      ],
      "metadata": {
        "id": "0Z5FR5-U-u1X"
      }
    },
    {
      "cell_type": "code",
      "source": [
        "e = 10\n",
        "f = 5\n",
        "\n",
        "# Implement the operations +, //, bit shift right >> twice\n",
        "print(e+f)\n",
        "print(e//f)\n",
        "print(e>>2)\n",
        "print(f>>2)"
      ],
      "metadata": {
        "colab": {
          "base_uri": "https://localhost:8080/"
        },
        "id": "ACVrA53U-w90",
        "outputId": "070d0c05-2564-42f1-e95d-69bcbde81e8a"
      },
      "execution_count": 20,
      "outputs": [
        {
          "output_type": "stream",
          "name": "stdout",
          "text": [
            "15\n",
            "2\n",
            "2\n",
            "1\n"
          ]
        }
      ]
    }
  ]
}